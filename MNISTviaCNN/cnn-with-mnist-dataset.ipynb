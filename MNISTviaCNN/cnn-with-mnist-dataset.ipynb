{
 "cells": [
  {
   "cell_type": "code",
   "execution_count": 1,
   "metadata": {
    "_cell_guid": "b1076dfc-b9ad-4769-8c92-a6c4dae69d19",
    "_uuid": "8f2839f25d086af736a60e9eeb907d3b93b6e0e5"
   },
   "outputs": [],
   "source": [
    "import torch\n",
    "import torch.nn as nn\n",
    "import torch.nn.functional as F\n",
    "import torch.optim as optim\n",
    "import torchvision\n",
    "from torchvision import datasets\n",
    "from torchvision.transforms import transforms\n",
    "from PIL import Image\n",
    "from torch.utils.data import Dataset\n",
    "from sklearn.model_selection import train_test_split\n",
    "from torch.utils.data.sampler import SubsetRandomSampler\n",
    "\n",
    "import math\n",
    "import numpy as np\n",
    "import matplotlib.pyplot as plt\n",
    "from matplotlib.patches import Rectangle\n",
    "from IPython.display import HTML\n",
    "import pandas as pd"
   ]
  },
  {
   "cell_type": "markdown",
   "execution_count": null,
   "metadata": {},
   "source": [
    "This notebook is my baseline attempt for constructing a working CNN using the MNIST Dataset through the PyTorch framework. After research and consultation with more proficient Kaggle users' notebooks (principally regarding the conversion of the foundational data medium from torchvision.datasets to pandas, and the subsequent submission to Kaggle that is common with all projects), I have opted to construct this using a basic CNN with Pooling, Dropout, etc. and the Adam optimizer."
   ]
  },
  {
   "cell_type": "code",
   "execution_count": 2,
   "metadata": {},
   "outputs": [],
   "source": [
    "train = pd.read_csv(\"../input/digit-recognizer/train.csv\")"
   ]
  },
  {
   "cell_type": "markdown",
   "execution_count": null,
   "metadata": {},
   "source": [
    "I would like to **thank** the following submission, https://www.kaggle.com/jcardenzana/mnist-pytorch-convolutional-neural-nets, for helping me transition the method through which I loaded the data to the Kaggle Digit Recognizer Dataset instead of PyTorch's respective dataset. I would also like to credit this notebook with helping me with the last cell in my own notebook (the construction of a pandas-made csv for submission purposes). "
   ]
  },
  {
   "cell_type": "code",
   "execution_count": 3,
   "metadata": {},
   "outputs": [
    {
     "name": "stdout",
     "output_type": "stream",
     "text": [
      "<class 'torch.Tensor'>\n",
      "torch.Size([250, 1, 28, 28])\n",
      "torch.Size([250])\n"
     ]
    }
   ],
   "source": [
    "transform = transforms.Compose([\n",
    "        transforms.ToTensor(),\n",
    "        transforms.Normalize((0.5,), (0.5,))\n",
    "    ])\n",
    "\n",
    "device = torch.device(\"cuda\" if torch.cuda.is_available() else \"cpu\")\n",
    "\n",
    "def get_digits(df):\n",
    "    labels = []\n",
    "    start_inx = 0\n",
    "    if 'label' in df.columns:\n",
    "        labels = [l for l in df.label.values]\n",
    "        start_inx = 1\n",
    "        \n",
    "    \n",
    "    digits = []\n",
    "    for i in range(df.pixel0.size):\n",
    "        digit = df.iloc[i].astype(float).values[start_inx:]\n",
    "        digit = np.reshape(digit, (28,28))\n",
    "        digit = transform(digit).type('torch.FloatTensor')\n",
    "        if len(labels) > 0:\n",
    "            digits.append([digit, labels[i]])\n",
    "        else:\n",
    "            digits.append(digit)\n",
    "\n",
    "    return digits\n",
    "\n",
    "trainX = get_digits(train)\n",
    "\n",
    "  \n",
    "batchSize  = 250 \n",
    "validSize  = 0.2  \n",
    "\n",
    "\n",
    "numTrain = len(trainX)\n",
    "indices   = list(range(numTrain))\n",
    "np.random.shuffle(indices)\n",
    "split     = int(np.floor(validSize * numTrain))\n",
    "trainIndex, validIndex = indices[split:], indices[:split]\n",
    "\n",
    "\n",
    "from torch.utils.data.sampler import SubsetRandomSampler\n",
    "trainSampler = SubsetRandomSampler(trainIndex)\n",
    "validSampler = SubsetRandomSampler(validIndex)\n",
    "\n",
    "trainLoad = torch.utils.data.DataLoader(trainX, batch_size=batchSize,\n",
    "                    sampler=trainSampler)\n",
    "validLoad = torch.utils.data.DataLoader(trainX, batch_size=batchSize, \n",
    "                    sampler=validSampler)\n",
    "\n",
    "dataiter = iter(trainLoad)\n",
    "images, labels = dataiter.next()\n",
    "print(type(images))\n",
    "print(images.shape)\n",
    "print(labels.shape)"
   ]
  },
  {
   "cell_type": "markdown",
   "execution_count": null,
   "metadata": {},
   "source": [
    "The following cell contains the Convolutional Neural Network that I have constructed for the purposes of analyzing the MNIST Dataset.  I have done a lot of researching and (hopefully) learned the basics of a neural network and/or CNN. "
   ]
  },
  {
   "cell_type": "code",
   "execution_count": 4,
   "metadata": {},
   "outputs": [],
   "source": [
    "class myModel(nn.Module):\n",
    "    \n",
    "    def __init__(self):\n",
    "        super(myModel, self).__init__()\n",
    "        \n",
    "        # The two Convolutional-Pooling Sets of Layers, \n",
    "        # connected through RELU functions.\n",
    "        self.layer1 = nn.Sequential(\n",
    "            nn.Conv2d(1, 30, kernel_size = 5, \n",
    "                      padding = 3),\n",
    "            nn.ReLU(),\n",
    "            nn.MaxPool2d(kernel_size = 3, \n",
    "                         stride = 3)\n",
    "            )\n",
    "        \n",
    "        self.layer2 = nn.Sequential(\n",
    "            nn.Conv2d(30, 60, kernel_size = 5, \n",
    "                      padding = 3),\n",
    "            nn.ReLU(),\n",
    "            nn.MaxPool2d(kernel_size = 3, \n",
    "                         stride = 3)\n",
    "            )\n",
    "        \n",
    "        # Dropout \n",
    "        self.dropoutLayer = nn.Dropout()\n",
    "        \n",
    "        # Linear Layers\n",
    "        self.linear1 = nn.Linear(4 * 4 * 60, 1000)\n",
    "        self.linear2 = nn.Linear(1000, 500)\n",
    "        self.linear3 = nn.Linear(500, 250)\n",
    "        self.linear3 = nn.Linear(500, 10)\n",
    "    \n",
    "    def forward(self, x):\n",
    "        \n",
    "        # Feed-forward network function\n",
    "        net = self.layer1(x)\n",
    "        net = self.layer2(net)\n",
    "        net = net.reshape(net.size(0), -1) \n",
    "        net = self.dropoutLayer(net)\n",
    "        net = self.linear1(net)\n",
    "        net = self.linear2(net)\n",
    "        \n",
    "        return net"
   ]
  },
  {
   "cell_type": "code",
   "execution_count": 5,
   "metadata": {},
   "outputs": [
    {
     "name": "stdout",
     "output_type": "stream",
     "text": [
      "Loss (Epoch 1) : 6.235819228994313\n",
      "Loss (Epoch 2) : 0.493605469144992\n",
      "Loss (Epoch 3) : 0.2966913253958546\n",
      "Loss (Epoch 4) : 0.21581824585350592\n",
      "Loss (Epoch 5) : 0.17957135779199315\n",
      "Loss (Epoch 6) : 0.15574164938793253\n",
      "Loss (Epoch 7) : 0.1327580058975006\n",
      "Loss (Epoch 8) : 0.12333206404278528\n",
      "Loss (Epoch 9) : 0.11922526231675006\n",
      "Loss (Epoch 10) : 0.1078158114105463\n",
      "Loss (Epoch 11) : 0.10056343431403833\n",
      "Loss (Epoch 12) : 0.09483209271817955\n",
      "Loss (Epoch 13) : 0.0998260863403331\n",
      "Loss (Epoch 14) : 0.09175936585820432\n",
      "Loss (Epoch 15) : 0.08479333283907886\n",
      "Loss (Epoch 16) : 0.08338828010957187\n",
      "Loss (Epoch 17) : 0.08015453016190831\n",
      "Loss (Epoch 18) : 0.07904491807097819\n",
      "Loss (Epoch 19) : 0.07440952010063538\n",
      "Loss (Epoch 20) : 0.0719083054547212\n"
     ]
    }
   ],
   "source": [
    "CNN = myModel()\n",
    "lossFunc = nn.CrossEntropyLoss()\n",
    "optimizer = optim.Adam(CNN.parameters(), lr = 0.0001)\n",
    "totalLosses = []\n",
    "\n",
    "for epoch in range(1, 21):\n",
    "    # Training for twenty epochs\n",
    "    \n",
    "    lossAtEpoch = 0.0\n",
    "    \n",
    "    for index, data in enumerate(trainLoad, start = 0):\n",
    "        inputs, names = data\n",
    "        optimizer.zero_grad() # Zero the parameter gradients\n",
    "        \n",
    "        outputs = CNN(inputs)\n",
    "        loss = lossFunc(outputs, names)\n",
    "        \n",
    "        loss.backward() # Make loss into Tensor\n",
    "        optimizer.step()\n",
    "        \n",
    "        lossAtEpoch += loss.item()\n",
    "        \n",
    "        batchSize2 = 134 # Miniature Batch Size\n",
    "        \n",
    "        if index % batchSize2 == (batchSize2 - 1):\n",
    "            print(\"Loss (Epoch \" + str(epoch) + \") : \" + str(lossAtEpoch / batchSize2))\n",
    "            totalLosses.append(lossAtEpoch / batchSize2)\n",
    "            \n",
    "            lossAtEpoch = 0.0"
   ]
  },
  {
   "cell_type": "code",
   "execution_count": 6,
   "metadata": {},
   "outputs": [],
   "source": [
    "arrayOfLosses = np.array(totalLosses)\n",
    "arrayOfLosses.shape # =(38,0)\n",
    "arrayOfLosses = arrayOfLosses.reshape(2,10)"
   ]
  },
  {
   "cell_type": "code",
   "execution_count": 7,
   "metadata": {},
   "outputs": [
    {
     "data": {
      "image/png": "[encoded data removed]",
      "text/plain": [
       "<Figure size 432x288 with 1 Axes>"
      ]
     },
     "metadata": {
      "needs_background": "light"
     },
     "output_type": "display_data"
    }
   ],
   "source": [
    "plt.plot(totalLosses)\n",
    "plt.title(\"Loss Function of CNN with MNIST Dataset\")\n",
    "plt.ylabel(\"Loss Function (CrossEntropyLoss)\")\n",
    "plt.xlabel(\"x-th Mini Batch (N = 250)\")\n",
    "plt.xticks(np.arange(len(totalLosses)), np.arange(1, len(totalLosses)+1))\n",
    "plt.show()"
   ]
  },
  {
   "cell_type": "code",
   "execution_count": 8,
   "metadata": {},
   "outputs": [
    {
     "data": {
      "text/html": [
       "<table border=\"1\" class=\"dataframe dataframe\">\n",
       "  <thead>\n",
       "    <tr style=\"text-align: right;\">\n",
       "      <th>CNN Loss (Optim = Adam)</th>\n",
       "    </tr>\n",
       "  </thead>\n",
       "  <tbody>\n",
       "    <tr>\n",
       "      <td>6.235819</td>\n",
       "    </tr>\n",
       "    <tr>\n",
       "      <td>0.493605</td>\n",
       "    </tr>\n",
       "    <tr>\n",
       "      <td>0.296691</td>\n",
       "    </tr>\n",
       "    <tr>\n",
       "      <td>0.215818</td>\n",
       "    </tr>\n",
       "    <tr>\n",
       "      <td>0.179571</td>\n",
       "    </tr>\n",
       "    <tr>\n",
       "      <td>0.155742</td>\n",
       "    </tr>\n",
       "    <tr>\n",
       "      <td>0.132758</td>\n",
       "    </tr>\n",
       "    <tr>\n",
       "      <td>0.123332</td>\n",
       "    </tr>\n",
       "    <tr>\n",
       "      <td>0.119225</td>\n",
       "    </tr>\n",
       "    <tr>\n",
       "      <td>0.107816</td>\n",
       "    </tr>\n",
       "    <tr>\n",
       "      <td>0.100563</td>\n",
       "    </tr>\n",
       "    <tr>\n",
       "      <td>0.094832</td>\n",
       "    </tr>\n",
       "    <tr>\n",
       "      <td>0.099826</td>\n",
       "    </tr>\n",
       "    <tr>\n",
       "      <td>0.091759</td>\n",
       "    </tr>\n",
       "    <tr>\n",
       "      <td>0.084793</td>\n",
       "    </tr>\n",
       "    <tr>\n",
       "      <td>0.083388</td>\n",
       "    </tr>\n",
       "    <tr>\n",
       "      <td>0.080155</td>\n",
       "    </tr>\n",
       "    <tr>\n",
       "      <td>0.079045</td>\n",
       "    </tr>\n",
       "    <tr>\n",
       "      <td>0.074410</td>\n",
       "    </tr>\n",
       "    <tr>\n",
       "      <td>0.071908</td>\n",
       "    </tr>\n",
       "  </tbody>\n",
       "</table>"
      ],
      "text/plain": [
       "<IPython.core.display.HTML object>"
      ]
     },
     "execution_count": 8,
     "metadata": {},
     "output_type": "execute_result"
    }
   ],
   "source": [
    "df = pd.DataFrame({\"CNN Loss (Optim = Adam)\": totalLosses})\n",
    "HTML(df.to_html(index = False, classes = \"dataframe\"))"
   ]
  },
  {
   "cell_type": "markdown",
   "execution_count": null,
   "metadata": {},
   "source": [
    "The below cell provides a rough accuracy of the model, though the true accuracy can be evaluated from the actual Kaggle score."
   ]
  },
  {
   "cell_type": "code",
   "execution_count": 9,
   "metadata": {},
   "outputs": [
    {
     "name": "stdout",
     "output_type": "stream",
     "text": [
      "Accuracy of     1 : 97 %\n",
      "Accuracy of     2 : 100 %\n",
      "Accuracy of     3 : 95 %\n",
      "Accuracy of     4 : 92 %\n",
      "Accuracy of     5 : 98 %\n",
      "Accuracy of     6 : 100 %\n",
      "Accuracy of     7 : 96 %\n",
      "Accuracy of     8 : 100 %\n",
      "Accuracy of     9 : 97 %\n",
      "Accuracy of    10 : 94 %\n",
      "Average Accuracy: 97.32807392745282\n"
     ]
    }
   ],
   "source": [
    "numCorrect = [0. for i in range(10)]\n",
    "numTotal = [0. for i in range(10)]\n",
    "\n",
    "with torch.no_grad():\n",
    "    for data in trainLoad:\n",
    "        \n",
    "        images, labels = data\n",
    "        outputs = CNN(images)\n",
    "        \n",
    "        _, predicted = torch.max(outputs, 1)\n",
    "        \n",
    "        c = (predicted == labels).squeeze()\n",
    "        \n",
    "        for i in range(4):\n",
    "            label = labels[i]\n",
    "            numCorrect[label] += c[i].item()\n",
    "            numTotal[label] += 1\n",
    "\n",
    "# Average accuracy\n",
    "avg = 0\n",
    "\n",
    "for i in range(10):\n",
    "    avg += 100 * numCorrect[i] / numTotal[i]\n",
    "    print('Accuracy of %5s : %2d %%' % (\n",
    "        i + 1, 100 * numCorrect[i] / numTotal[i]))\n",
    "\n",
    "print(\"Average Accuracy: \" + str(avg / 10))"
   ]
  },
  {
   "cell_type": "code",
   "execution_count": 10,
   "metadata": {},
   "outputs": [],
   "source": [
    "# Define the test data loader\n",
    "test        = pd.read_csv(\"../input/digit-recognizer/test.csv\")\n",
    "testX      = get_digits(test)\n",
    "testLoad = torch.utils.data.DataLoader(testX, batch_size=batchSize)"
   ]
  },
  {
   "cell_type": "code",
   "execution_count": 11,
   "metadata": {},
   "outputs": [],
   "source": [
    "ImageId = []\n",
    "Label = []\n",
    "\n",
    "# Loop through the data and get the predictions\n",
    "for data in testLoad:\n",
    "    # Move tensors to GPU if CUDA is available\n",
    "    data = data.to(device)\n",
    "    # Make the predictions\n",
    "    output = CNN(data)\n",
    "    # Get the most likely predicted digit\n",
    "    _, pred = torch.max(output, 1)\n",
    "    \n",
    "    for i in range(len(pred)):        \n",
    "        ImageId.append(len(ImageId)+1)\n",
    "        Label.append(pred[i].cpu().numpy())\n",
    "\n",
    "sub = pd.DataFrame(data={'ImageId':ImageId, 'Label':Label})\n",
    "sub.describe\n",
    "sub.to_csv(\"submission.csv\", index = False)"
   ]
  }
 ],
 "metadata": {
  "kernelspec": {
   "display_name": "Python 3",
   "language": "python",
   "name": "python3"
  },
  "language_info": {
   "codemirror_mode": {
    "name": "ipython",
    "version": 3
   },
   "file_extension": ".py",
   "mimetype": "text/x-python",
   "name": "python",
   "nbconvert_exporter": "python",
   "pygments_lexer": "ipython3",
   "version": "3.7.6"
  }
 },
 "nbformat": 4,
 "nbformat_minor": 4
}
